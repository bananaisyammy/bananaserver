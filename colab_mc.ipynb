{
  "nbformat": 4,
  "nbformat_minor": 0,
  "metadata": {
    "colab": {
      "private_outputs": true,
      "provenance": []
    },
    "kernelspec": {
      "name": "python3",
      "display_name": "Python 3"
    },
    "language_info": {
      "name": "python"
    }
  },
  "cells": [
    {
      "cell_type": "markdown",
      "source": [
        "# colabでミニゲーム鯖\n",
        "\n",
        "セルを一個一個実行して\n",
        "\n",
        "* Project page: https://github.com/bananaisyammy/bananaserver"
      ],
      "metadata": {
        "id": "MFQl6-FjSYtY"
      }
    },
    {
      "cell_type": "code",
      "source": [
        "#@title 1. 音声ファイルを流して消えるのを防ぐ { display-mode: \"form\" }\n",
        "\n",
        "#@markdown Press play on the music player that will appear below:\n",
        "%%html\n",
        "<audio src=\"https://oobabooga.github.io/silence.m4a\" controls>"
      ],
      "metadata": {
        "id": "f7TVVj_z4flw"
      },
      "execution_count": null,
      "outputs": []
    },
    {
      "cell_type": "code",
      "source": [
        "#@title 2. マイクラ鯖を起動\n",
        "\n",
        "#@markdown 設定:\n",
        "%cd /content/\n",
        "!sudo apt update\n",
        "\n",
        "!sudo apt-get install openjdk-21-jre\n",
        "!deb [signed-by=/etc/apt/trusted.gpg.d/playit.gpg] https://playit-cloud.github.io/ppa/data ./playit.list\n",
        "!sudo apt update\n",
        "!sudo apt install playit\n",
        "!curl -SsL https://playit-cloud.github.io/ppa/key.gpg | gpg --dearmor | sudo tee /etc/apt/trusted.gpg.d/playit.gpg >/dev/null\n",
        "!echo \"deb [signed-by=/etc/apt/trusted.gpg.d/playit.gpg] https://playit-cloud.github.io/ppa/data ./\" | sudo tee /etc/apt/sources.list.d/playit-cloud.list\n",
        "!sudo apt install playit\n",
        "\n",
        "import os\n",
        "\n",
        "update = \"False\" #@param [\"True\",\"False\"] {allow-input: true}\n",
        "if update == \"True\":\n",
        "  !git clone https://github.com/bananaisyammy/bananaserver.git\n",
        "\n",
        "%cd bananaserver/papermc\n",
        "\n",
        "param = \"dropper\" #@param [\"dropper\", \"vd&tb\", \"survival\"] {allow-input: true}\n",
        "if param == \"dropper\":\n",
        "  %cd Dropper\n",
        "if param == \"vd&tb\":\n",
        "  %cd vd|tb\n",
        "if param == \"survival\":\n",
        "  %cd サバイバル\n",
        "\n",
        "!chmod 755 ./start.sh\n",
        "!./start.sh\n"
      ],
      "metadata": {
        "id": "LGQ8BiMuXMDG"
      },
      "execution_count": null,
      "outputs": []
    }
  ]
}